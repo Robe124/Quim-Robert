{
 "cells": [
  {
   "cell_type": "code",
   "execution_count": null,
   "id": "fd652a03-3577-4b74-a471-94f8f7d4396f",
   "metadata": {},
   "outputs": [],
   "source": []
  }
 ],
 "metadata": {
  "kernelspec": {
   "display_name": "",
   "name": ""
  },
  "language_info": {
   "name": ""
  }
 },
 "nbformat": 4,
 "nbformat_minor": 5
}
